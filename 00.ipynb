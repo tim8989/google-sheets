{
 "cells": [
  {
   "cell_type": "code",
   "execution_count": 14,
   "metadata": {},
   "outputs": [
    {
     "name": "stdout",
     "output_type": "stream",
     "text": [
      " Week Range\n",
      "01/06~01/12\n",
      "01/13~01/19\n",
      "01/20~01/26\n",
      "01/27~02/02\n",
      "02/03~02/09\n",
      "02/10~02/16\n",
      "02/17~02/23\n",
      "02/24~03/02\n",
      "03/03~03/09\n",
      "03/10~03/16\n",
      "03/17~03/23\n",
      "03/24~03/30\n",
      "03/31~04/06\n",
      "04/07~04/13\n",
      "04/14~04/20\n",
      "04/21~04/27\n",
      "04/28~05/04\n",
      "05/05~05/11\n",
      "05/12~05/18\n",
      "05/19~05/25\n",
      "05/26~06/01\n",
      "06/02~06/08\n",
      "06/09~06/15\n",
      "06/16~06/22\n",
      "06/23~06/29\n",
      "06/30~07/06\n",
      "07/07~07/13\n",
      "07/14~07/20\n",
      "07/21~07/27\n",
      "07/28~08/03\n",
      "08/04~08/10\n",
      "08/11~08/17\n",
      "08/18~08/24\n",
      "08/25~08/31\n",
      "09/01~09/07\n",
      "09/08~09/14\n",
      "09/15~09/21\n",
      "09/22~09/28\n",
      "09/29~10/05\n",
      "10/06~10/12\n",
      "10/13~10/19\n",
      "10/20~10/26\n",
      "10/27~11/02\n",
      "11/03~11/09\n",
      "11/10~11/16\n",
      "11/17~11/23\n",
      "11/24~11/30\n",
      "12/01~12/07\n",
      "12/08~12/14\n",
      "12/15~12/21\n",
      "12/22~12/28\n",
      "12/29~01/04\n"
     ]
    }
   ],
   "source": [
    "import pandas as pd\n",
    "\n",
    "# 定義2025年的起始與結束日期\n",
    "start_date = pd.to_datetime('2025-01-01')\n",
    "end_date = pd.to_datetime('2025-12-31')\n",
    "\n",
    "# 生成每週週一的日期列表\n",
    "dates = pd.date_range(start=start_date, end=end_date, freq='W-MON')\n",
    "\n",
    "# 生成每週範圍（週一到週日）\n",
    "week_ranges = [f\"{week.strftime('%m/%d')}~{(week + pd.Timedelta(days=6)).strftime('%m/%d')}\" for week in dates]\n",
    "\n",
    "# 創建DataFrame\n",
    "df_week_ranges = pd.DataFrame(week_ranges, columns=[\"Week Range\"])\n",
    "\n",
    "# 顯示表格\n",
    "\n",
    "# 輸出表格可供複製\n",
    "print(df_week_ranges.to_string(index=False))"
   ]
  }
 ],
 "metadata": {
  "kernelspec": {
   "display_name": "env_pytorch",
   "language": "python",
   "name": "python3"
  },
  "language_info": {
   "codemirror_mode": {
    "name": "ipython",
    "version": 3
   },
   "file_extension": ".py",
   "mimetype": "text/x-python",
   "name": "python",
   "nbconvert_exporter": "python",
   "pygments_lexer": "ipython3",
   "version": "3.12.5"
  }
 },
 "nbformat": 4,
 "nbformat_minor": 2
}
